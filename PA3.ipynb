{
 "cells": [
  {
   "cell_type": "markdown",
   "metadata": {},
   "source": [
    "# Programming Assignment 3\n",
    "Brian Johnston  \n",
    "v1.0  \n",
    "FA2020 - CS150-01  "
   ]
  },
  {
   "cell_type": "markdown",
   "metadata": {},
   "source": [
    "a."
   ]
  },
  {
   "cell_type": "code",
   "execution_count": 1,
   "metadata": {},
   "outputs": [],
   "source": [
    "import math"
   ]
  },
  {
   "cell_type": "code",
   "execution_count": 16,
   "metadata": {},
   "outputs": [],
   "source": [
    "def calcArea(l1=1,l2=1,l3=1):\n",
    "    s = (l1+l2+l3)/2\n",
    "    area = math.sqrt(s * (s - l1) * (s - l2) * (s - l3))\n",
    "    return area"
   ]
  },
  {
   "cell_type": "code",
   "execution_count": 24,
   "metadata": {},
   "outputs": [],
   "source": [
    "def calcPerim(l1=1,l2=1,l3=1):\n",
    "    perim = l1 + l2 + l3\n",
    "    return perim"
   ]
  },
  {
   "cell_type": "code",
   "execution_count": 22,
   "metadata": {},
   "outputs": [
    {
     "name": "stdout",
     "output_type": "stream",
     "text": [
      "Please input the lengths of the sides of your triangle, separated by a comma without a space: 5,5,5\n",
      "The area of this triangle is 10.825317547305483\n",
      "The perimiter of this triangle is 15.0\n"
     ]
    }
   ],
   "source": [
    "lengths = input(\"Please input the lengths of the sides of your triangle, separated by a comma without a space [Ex. '4,5,6']: \").split(\",\")\n",
    "    ### Takes user input as a list\n",
    "    \n",
    "for i in range(0,3):\n",
    "    lengths[i] = float(lengths[i])\n",
    "    ### Converts the string inputs to floats\n",
    "\n",
    "area = calcArea(lengths[0],lengths[1],lengths[2])\n",
    "perim = calcPerim(lengths[0],lengths[1],lengths[2])\n",
    "    ### Returns values for area and perimeter\n",
    "\n",
    "print(\"The area of this triangle is \" + str(area) + \" square units.\")\n",
    "print(\"The perimiter of this triangle is \" + str(perim) + \" units.\")\n",
    "    ### Prints result\n"
   ]
  },
  {
   "cell_type": "code",
   "execution_count": 25,
   "metadata": {},
   "outputs": [
    {
     "name": "stdout",
     "output_type": "stream",
     "text": [
      "The area of this triangle is 0.4330127018922193 square units.\n",
      "The perimiter of this triangle is 3 units.\n"
     ]
    }
   ],
   "source": [
    "area = calcArea()\n",
    "perim = calcPerim()\n",
    "print(\"The area of this triangle is \" + str(area) + \" square units.\")\n",
    "print(\"The perimiter of this triangle is \" + str(perim) + \" units.\")"
   ]
  },
  {
   "cell_type": "markdown",
   "metadata": {},
   "source": [
    "b."
   ]
  },
  {
   "cell_type": "code",
   "execution_count": 26,
   "metadata": {},
   "outputs": [],
   "source": [
    "import random"
   ]
  },
  {
   "cell_type": "code",
   "execution_count": 36,
   "metadata": {},
   "outputs": [],
   "source": [
    "def evalGuess(real,guess): ### (Number to be guessed, User's guess)\n",
    "    guesStr = \"\"\n",
    "    if real > guess:\n",
    "        guesStr = \"Too Low!\"\n",
    "    elif real < guess:\n",
    "        guesStr = \"Too High!\"\n",
    "    else:\n",
    "        guesStr = \"Thats it! You guessed my number!\"\n",
    "    \n",
    "    return guesStr"
   ]
  },
  {
   "cell_type": "code",
   "execution_count": 47,
   "metadata": {},
   "outputs": [
    {
     "name": "stdout",
     "output_type": "stream",
     "text": [
      "I'm thinking of a number between 1 and 1000. Think you can guess it?\n",
      "Take a Guess: 500\n",
      "Too High!\n",
      "Guess Again, Please! 300\n",
      "Too High!\n",
      "Guess Again, Please! 200\n",
      "Too High!\n",
      "Guess Again, Please! 100\n",
      "Too High!\n",
      "Guess Again, Please! 50\n",
      "Too Low!\n",
      "Guess Again, Please! 75\n",
      "Too High!\n",
      "Guess Again, Please! 65\n",
      "Too High!\n",
      "Guess Again, Please! 60\n",
      "Too High!\n",
      "Guess Again, Please! 58\n",
      "Too High!\n",
      "Guess Again, Please! 56\n",
      "You managed to guess my number in 9 guesses! Congrats!\n"
     ]
    }
   ],
   "source": [
    "print(\"I'm thinking of a number between 1 and 1000. Think you can guess it?\")\n",
    "\n",
    "finalAns = random.randint(1,1000)\n",
    "userGuess = int(input(\"Take a Guess: \"))\n",
    "counter = 0\n",
    "\n",
    "while finalAns != userGuess:\n",
    "    if counter == 0:\n",
    "        counter += 1\n",
    "        \n",
    "        exitLoop = evalGuess(finalAns,userGuess)\n",
    "        print(exitLoop)\n",
    "        \n",
    "        if finalAns == userGuess:\n",
    "            print(\"Wow! On your first guess too! Very Impressive!!\")\n",
    "        else:\n",
    "            userGuess = int(input(\"Guess Again, Please! \"))\n",
    "            \n",
    "    else:\n",
    "        counter += 1\n",
    "    \n",
    "        exitLoop = evalGuess(finalAns,userGuess)\n",
    "        print(exitLoop)\n",
    "        userGuess = int(input(\"Guess Again, Please! \"))\n",
    "\n",
    "    \n",
    "print(\"You managed to guess my number in \" + str(counter) + \" guesses! Congrats!\")\n"
   ]
  },
  {
   "cell_type": "markdown",
   "metadata": {},
   "source": [
    "c."
   ]
  },
  {
   "cell_type": "code",
   "execution_count": 67,
   "metadata": {},
   "outputs": [],
   "source": [
    "def meanTemp(temps):\n",
    "    days = len(temps) \n",
    "    total = 0\n",
    "    \n",
    "    for i in range(days):\n",
    "        total += float(temps[i])\n",
    "    \n",
    "    days = days \n",
    "    avg = total/days\n",
    "    \n",
    "    return avg, days"
   ]
  },
  {
   "cell_type": "code",
   "execution_count": 69,
   "metadata": {},
   "outputs": [
    {
     "name": "stdout",
     "output_type": "stream",
     "text": [
      "Please input the temperatures(in Fahrenheit) from the days you wish to find the mean temperature of, separated by a comma without a spaces [Ex. '45,75,88,36']: 4,4,4,4\n",
      "The mean temperature for these 4 days is 4.00 degrees Fahrenheit.\n"
     ]
    }
   ],
   "source": [
    "lis = input(\"Please input the temperatures(in Fahrenheit) from the days you wish to find the mean temperature of, separated by a comma without a spaces [Ex. '45,75,88,36']: \").split(\",\")\n",
    "\n",
    "result = meanTemp(lis)\n",
    "\n",
    "print(\"The mean temperature for these \" + str(result[1]) + \" days is \" + format(result[0],'.2f') + \" degrees Fahrenheit.\")"
   ]
  },
  {
   "cell_type": "code",
   "execution_count": null,
   "metadata": {},
   "outputs": [],
   "source": []
  }
 ],
 "metadata": {
  "kernelspec": {
   "display_name": "Python 3",
   "language": "python",
   "name": "python3"
  },
  "language_info": {
   "codemirror_mode": {
    "name": "ipython",
    "version": 3
   },
   "file_extension": ".py",
   "mimetype": "text/x-python",
   "name": "python",
   "nbconvert_exporter": "python",
   "pygments_lexer": "ipython3",
   "version": "3.8.3"
  }
 },
 "nbformat": 4,
 "nbformat_minor": 4
}
